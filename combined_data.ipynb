{
 "cells": [
  {
   "cell_type": "code",
   "execution_count": 5,
   "metadata": {},
   "outputs": [],
   "source": [
    "import os\n",
    "\n",
    "\n",
    "\n"
   ]
  },
  {
   "cell_type": "code",
   "execution_count": 6,
   "metadata": {},
   "outputs": [],
   "source": [
    "import pandas as pd"
   ]
  },
  {
   "cell_type": "code",
   "execution_count": 7,
   "metadata": {},
   "outputs": [
    {
     "name": "stdout",
     "output_type": "stream",
     "text": [
      "   Unnamed: 0                                       Name  Rating  \\\n",
      "0           0                  Fields Of Joy Shiraz 2014     4.0   \n",
      "1           1                          Shotfire GSM 2018     3.9   \n",
      "2           2                  Passion has Red Lips 2020     3.8   \n",
      "3           3   The Hermit Crab Viognier - Marsanne 2018     3.8   \n",
      "4           4  Cabernet Sauvignon (Batch No. 1 & 3) 2019     3.8   \n",
      "\n",
      "   Number of Ratings  Price  \\\n",
      "0                203  28.99   \n",
      "1                 36  19.49   \n",
      "2                350  27.50   \n",
      "3               1026  16.99   \n",
      "4                969  14.99   \n",
      "\n",
      "                                              Region                  Winery  \\\n",
      "0  Australia / South Australia / Mount Lofty Rang...               Two Hands   \n",
      "1              Australia / South Australia / Barossa            Thorn-Clarke   \n",
      "2  Australia / South Australia / Fleurieu / McLar...        Some Young Punks   \n",
      "3  Australia / South Australia / Fleurieu / McLar...              d'Arenberg   \n",
      "4                Australia / South Eastern Australia  Gentleman's Collection   \n",
      "\n",
      "                      Wine style  Alcohol content  \\\n",
      "0              Australian Shiraz        13.794543   \n",
      "1     Australian Rhône Blend Red        14.500000   \n",
      "2   Australian Cabernet - Shiraz        13.794543   \n",
      "3                            NaN        13.794543   \n",
      "4  Australian Cabernet Sauvignon        13.794543   \n",
      "\n",
      "                              Grapes  \\\n",
      "0                                NaN   \n",
      "1  Mourvedre, Shiraz/Syrah, Grenache   \n",
      "2                                NaN   \n",
      "3                                NaN   \n",
      "4                                NaN   \n",
      "\n",
      "                                       Food pairings   Bold    Tannin  Sweet  \\\n",
      "0  ['Beef', 'Lamb', 'Game (deer, venison)', 'Poul...  85.00  47.13000  20.62   \n",
      "1  ['Beef', 'Pasta', 'Lamb', 'Game (deer, venison)']  85.00  50.63000   9.05   \n",
      "2                        ['Beef', 'Lamb', 'Poultry']  85.00  49.37000   8.19   \n",
      "3                                                 []  61.73  46.29527   9.05   \n",
      "4                        ['Beef', 'Lamb', 'Poultry']  76.34  49.36000  16.02   \n",
      "\n",
      "   Acidic  \n",
      "0  43.570  \n",
      "1  43.000  \n",
      "2  44.780  \n",
      "3  53.555  \n",
      "4  47.890  \n"
     ]
    }
   ],
   "source": [
    "folder_path = \"Wine_Stats\"\n",
    "\n",
    "csv_files = [f for f in os.listdir(folder_path) if f.endswith('.csv')]\n",
    "\n",
    "# Load each CSV file into a DataFrame and store them in a list\n",
    "dataframes = []\n",
    "for file in csv_files:\n",
    "    file_path = os.path.join(folder_path, file)\n",
    "    df = pd.read_csv(file_path)\n",
    "    dataframes.append(df)\n",
    "\n",
    "wine_df = pd.concat(dataframes, ignore_index=True)\n",
    "\n",
    "print(wine_df.head())\n",
    "\n",
    "wine_df.to_csv(\"wine_df.csv\", index=False)"
   ]
  }
 ],
 "metadata": {
  "kernelspec": {
   "display_name": "myenv",
   "language": "python",
   "name": "python3"
  },
  "language_info": {
   "codemirror_mode": {
    "name": "ipython",
    "version": 3
   },
   "file_extension": ".py",
   "mimetype": "text/x-python",
   "name": "python",
   "nbconvert_exporter": "python",
   "pygments_lexer": "ipython3",
   "version": "3.8.20"
  }
 },
 "nbformat": 4,
 "nbformat_minor": 2
}
